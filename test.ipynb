{
 "cells": [
  {
   "cell_type": "code",
   "execution_count": 2,
   "metadata": {},
   "outputs": [],
   "source": [
    "import aiohttp"
   ]
  },
  {
   "cell_type": "code",
   "execution_count": 23,
   "metadata": {},
   "outputs": [],
   "source": [
    "import random"
   ]
  },
  {
   "cell_type": "code",
   "execution_count": 24,
   "metadata": {},
   "outputs": [],
   "source": [
    "low_calories_food = ('cucumber', \n",
    "                     'tomato', \n",
    "                     'cabbage', \n",
    "                     'apple', \n",
    "                     'Greek yogurt', \n",
    "                     'carrot', \n",
    "                     'broccoly', \n",
    "                     'spinach'\n",
    "                     )"
   ]
  },
  {
   "cell_type": "code",
   "execution_count": 32,
   "metadata": {},
   "outputs": [
    {
     "data": {
      "text/plain": [
       "['apple', 'Greek yogurt', 'cabbage']"
      ]
     },
     "execution_count": 32,
     "metadata": {},
     "output_type": "execute_result"
    }
   ],
   "source": [
    "random.sample(low_calories_food, k=3)"
   ]
  },
  {
   "cell_type": "code",
   "execution_count": 33,
   "metadata": {},
   "outputs": [],
   "source": [
    "from matplotlib import pyplot as plt"
   ]
  },
  {
   "cell_type": "code",
   "execution_count": 37,
   "metadata": {},
   "outputs": [
    {
     "data": {
      "text/plain": [
       "<matplotlib.collections.PolyCollection at 0x20b31a44320>"
      ]
     },
     "execution_count": 37,
     "metadata": {},
     "output_type": "execute_result"
    },
    {
     "data": {
      "image/png": "[encoded data removed]",
      "text/plain": [
       "<Figure size 640x480 with 1 Axes>"
      ]
     },
     "metadata": {},
     "output_type": "display_data"
    }
   ],
   "source": [
    "plt.fill_between([1, 2, 3, 4, 5], [1, 2, 2, 4, 5])"
   ]
  },
  {
   "cell_type": "code",
   "execution_count": 7,
   "metadata": {},
   "outputs": [],
   "source": [
    "query = 'banana'"
   ]
  },
  {
   "cell_type": "code",
   "execution_count": 1,
   "metadata": {},
   "outputs": [],
   "source": [
    "KEY = 'iy07rofO0aMXTWOyhB5PakupvUA7KoOe6Pwx2Gdx'"
   ]
  },
  {
   "cell_type": "code",
   "execution_count": 21,
   "metadata": {},
   "outputs": [],
   "source": [
    "async def get_food_info_usda(product_name: str, api_key: str):\n",
    "    url = f\"https://api.nal.usda.gov/fdc/v1/foods/search?api_key={api_key}&query={product_name}\"\n",
    "    \n",
    "    try:\n",
    "        async with aiohttp.ClientSession() as session:\n",
    "            async with session.get(url) as response:\n",
    "                if response.status == 200:\n",
    "                    data = await response.json()\n",
    "                    foods = data.get('foods', [])\n",
    "                    if foods:\n",
    "                        first_food = foods[0]\n",
    "                        nutrients = first_food.get('foodNutrients', [])\n",
    "                        for nutrient in nutrients:\n",
    "                            if nutrient.get('nutrientName') == 'Energy':\n",
    "                                return nutrient.get('value', 0)\n",
    "    except aiohttp.ClientError:\n",
    "        pass\n",
    "\n",
    "    return 0"
   ]
  },
  {
   "cell_type": "code",
   "execution_count": 5,
   "metadata": {},
   "outputs": [
    {
     "name": "stdout",
     "output_type": "stream",
     "text": [
      "{'station_locator_url': 'https://afdc.energy.gov/stations/', 'total_results': 93167, 'station_counts': {'total': 246251, 'fuels': {'BD': {'total': 1793}, 'E85': {'total': 4719}, 'ELEC': {'total': 233768, 'stations': {'total': 80684}}, 'HY': {'total': 103}, 'LNG': {'total': 112}, 'CNG': {'total': 1372}, 'LPG': {'total': 2865}, 'RD': {'total': 1519}}}, 'fuel_stations': [{'access_code': 'private', 'access_days_time': None, 'access_detail_code': None, 'cards_accepted': None, 'date_last_confirmed': '2024-10-11', 'expected_date': None, 'fuel_type_code': 'CNG', 'groups_with_access_code': 'Private', 'id': 17, 'maximum_vehicle_class': 'MD', 'open_date': '2010-12-01', 'owner_type_code': 'T', 'restricted_access': None, 'status_code': 'E', 'funding_sources': None, 'facility_type': 'STANDALONE_STATION', 'station_name': 'Spire - Montgomery Operations Center', 'station_phone': None, 'updated_at': '2024-10-11T18:09:31Z', 'geocode_status': '200-9', 'latitude': 32.367916, 'longitude': -86.267021, 'city': 'Montgomery', 'country': 'US', 'intersection_directions': None, 'plus4': None, 'state': 'AL', 'street_address': '2951 Chestnut St', 'zip': '36107', 'bd_blends': None, 'cng_dispenser_num': 1, 'cng_fill_type_code': 'B', 'cng_has_rng': False, 'cng_psi': '3600', 'cng_renewable_source': None, 'cng_total_compression': None, 'cng_total_storage': None, 'cng_vehicle_class': 'MD', 'e85_blender_pump': None, 'e85_other_ethanol_blends': None, 'ev_connector_types': None, 'ev_dc_fast_num': None, 'ev_level1_evse_num': None, 'ev_level2_evse_num': None, 'ev_network': None, 'ev_network_web': None, 'ev_other_evse': None, 'ev_pricing': None, 'ev_renewable_source': None, 'ev_workplace_charging': None, 'hy_is_retail': None, 'hy_pressures': None, 'hy_standards': None, 'hy_status_link': None, 'lng_has_rng': None, 'lng_renewable_source': None, 'lng_vehicle_class': None, 'lpg_nozzle_types': None, 'lpg_primary': None, 'ng_fill_type_code': 'B', 'ng_psi': '3600', 'ng_vehicle_class': 'MD', 'rd_blended_with_biodiesel': None, 'rd_blends': None, 'rd_blends_fr': None, 'rd_max_biodiesel_level': None, 'nps_unit_name': None, 'access_days_time_fr': None, 'intersection_directions_fr': None, 'bd_blends_fr': None, 'groups_with_access_code_fr': 'Privé', 'ev_pricing_fr': None}]}\n"
     ]
    }
   ],
   "source": [
    "food_info = await get_food_info(product_name)\n",
    "if food_info:\n",
    "    print(f\"Название: {food_info['name']}\")\n",
    "    print(f\"Калорийность на 100 г: {food_info['calories']} ккал\")"
   ]
  },
  {
   "cell_type": "code",
   "execution_count": 8,
   "metadata": {},
   "outputs": [],
   "source": [
    "url = f'https://api.nal.usda.gov/fdc/v1/foods/search?api_key={KEY}&query={query}'\n",
    "\n",
    "async with aiohttp.ClientSession() as session:\n",
    "    async with session.get(url) as response:\n",
    "        if response.status == 200:\n",
    "            data = await response.json()"
   ]
  },
  {
   "cell_type": "code",
   "execution_count": 22,
   "metadata": {},
   "outputs": [
    {
     "data": {
      "text/plain": [
       "212"
      ]
     },
     "execution_count": 22,
     "metadata": {},
     "output_type": "execute_result"
    }
   ],
   "source": [
    "await get_food_info_usda('hamburger', KEY)"
   ]
  },
  {
   "cell_type": "code",
   "execution_count": null,
   "metadata": {},
   "outputs": [],
   "source": []
  }
 ],
 "metadata": {
  "kernelspec": {
   "display_name": "Python 3",
   "language": "python",
   "name": "python3"
  },
  "language_info": {
   "codemirror_mode": {
    "name": "ipython",
    "version": 3
   },
   "file_extension": ".py",
   "mimetype": "text/x-python",
   "name": "python",
   "nbconvert_exporter": "python",
   "pygments_lexer": "ipython3",
   "version": "3.12.7"
  }
 },
 "nbformat": 4,
 "nbformat_minor": 2
}
